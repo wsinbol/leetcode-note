{
 "cells": [
  {
   "cell_type": "markdown",
   "metadata": {},
   "source": [
    "# [!337. House Robber III](https://leetcode.com/problems/house-robber-iii/)\n",
    "\n",
    "The thief has found himself a new place for his thievery again. There is only one entrance to this area, called the \"root.\" Besides the root, each house has one and only one parent house. After a tour, the smart thief realized that \"all houses in this place forms a binary tree\". It will automatically contact the police if two directly-linked houses were broken into on the same night.\n",
    "\n",
    "Determine the maximum amount of money the thief can rob tonight without alerting the police.\n",
    "\n",
    "# 自己版\n",
    "\n",
    "受题目给的案例的影响，因为每层的隔行总和可以得到答案，以为就是计算隔行的求和，取最大值，这么想是不对的！\n",
    "\n",
    "```python\n",
    "    def rob(self, root: TreeNode) -> int:\n",
    "        self.odd = []\n",
    "        self.even = []\n",
    "        \n",
    "        def dfs(node,level,total):\n",
    "            if node:\n",
    "                if level % 2 == 0:\n",
    "                    self.even.append(node.val+total)\n",
    "                else:\n",
    "                    self.odd.append(node.val+total)\n",
    "                    \n",
    "                dfs(node.left, level+1,node.val)\n",
    "                dfs(node.right, level+1, node.val)\n",
    "                \n",
    "        dfs(root, 0, 0)\n",
    "        print(self.odd)\n",
    "        print(self.even)\n",
    "```"
   ]
  }
 ],
 "metadata": {
  "kernelspec": {
   "display_name": "Python 3",
   "language": "python",
   "name": "python3"
  },
  "language_info": {
   "codemirror_mode": {
    "name": "ipython",
    "version": 3
   },
   "file_extension": ".py",
   "mimetype": "text/x-python",
   "name": "python",
   "nbconvert_exporter": "python",
   "pygments_lexer": "ipython3",
   "version": "3.6.4"
  }
 },
 "nbformat": 4,
 "nbformat_minor": 4
}
