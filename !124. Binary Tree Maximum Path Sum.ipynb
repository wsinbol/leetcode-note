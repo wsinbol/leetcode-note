{
 "cells": [
  {
   "cell_type": "markdown",
   "metadata": {},
   "source": [
    "# [124. Binary Tree Maximum Path Sum](https://leetcode.com/problems/binary-tree-maximum-path-sum/)\n",
    "\n",
    "Given a non-empty binary tree, find the maximum path sum.\n",
    "\n",
    "For this problem, a path is defined as any sequence of nodes from some starting node to any node in the tree along the parent-child connections. The path must contain at least one node and does not need to go through the root.\n",
    "\n",
    "## 思路版\n",
    "\n",
    "这道题要求的是任意两个节点之间经过的路径长度总和最大值，这就意味着不能出现重复的路线！所以我们可以想象这样一个场景：\n",
    "\n",
    "1. 沿着任意一个节点开始分左、右两个方向走，每次只选择值最大节点对应的路径走且不可回头\n",
    "2. 为了避免陷入局部最优的情况，要走完每一个节点，计算每一个节点对于最大路径和的影响\n",
    "\n",
    "## DFS\n",
    "\n",
    "```\n",
    "    def maxPathSum(self, root: TreeNode) -> int:\n",
    "        self.max = float('-inf')\n",
    "        def dfs(node):\n",
    "            if not node:\n",
    "                return 0\n",
    "            \n",
    "            left = max(0, dfs(node.left))\n",
    "            right = max(0, dfs(node.right))\n",
    "            self.max = max(left+right+node.val, self.max)\n",
    "            return max(left,right)+node.val\n",
    "        \n",
    "        dfs(root)\n",
    "        return self.max\n",
    "```"
   ]
  }
 ],
 "metadata": {
  "kernelspec": {
   "display_name": "Python 3",
   "language": "python",
   "name": "python3"
  },
  "language_info": {
   "codemirror_mode": {
    "name": "ipython",
    "version": 3
   },
   "file_extension": ".py",
   "mimetype": "text/x-python",
   "name": "python",
   "nbconvert_exporter": "python",
   "pygments_lexer": "ipython3",
   "version": "3.6.4"
  }
 },
 "nbformat": 4,
 "nbformat_minor": 4
}
