{
 "cells": [
  {
   "cell_type": "markdown",
   "metadata": {},
   "source": [
    "# [1022. Binary Numbers](https://leetcode.com/problems/sum-of-root-to-leaf-binary-numbers/)\n",
    "\n",
    "Given a binary tree, each node has value 0 or 1.  Each root-to-leaf path represents a binary number starting with the most significant bit.  For example, if the path is 0 -> 1 -> 1 -> 0 -> 1, then this could represent 01101 in binary, which is 13.\n",
    "\n",
    "For all leaves in the tree, consider the numbers represented by the path from the root to that leaf.\n",
    "\n",
    "Return the sum of these numbers.\n",
    "\n",
    "## Recursive Solution\n",
    "\n",
    "```python\n",
    "    def sumRootToLeaf(self, root: TreeNode) -> int:\n",
    "        def dfs(node, path):\n",
    "            if node:\n",
    "                if node.left == None and node.right == None:\n",
    "                    self.sum += int(path+str(node.val),2)\n",
    "                dfs(node.left, path+str(node.val))\n",
    "                dfs(node.right, path+str(node.val))\n",
    "                \n",
    "        self.sum = 0\n",
    "        dfs(root, \"\")\n",
    "        return self.sum\n",
    "```\n",
    "\n",
    "## Recommendation\n",
    "\n",
    "```python\n",
    "    def sumRootToLeaf(self, root: TreeNode) -> int:\n",
    "        return self.dfs(root, 0)\n",
    "         \n",
    "    def dfs(self, node, val):\n",
    "        if node == None:\n",
    "            return 0\n",
    "        val = val*2 + node.val\n",
    "        if node.left == None and node.right == None:\n",
    "            return val\n",
    "        return self.dfs(node.left, val) + self.dfs(node.right, val)\n",
    "```"
   ]
  }
 ],
 "metadata": {
  "kernelspec": {
   "display_name": "Python 3",
   "language": "python",
   "name": "python3"
  },
  "language_info": {
   "codemirror_mode": {
    "name": "ipython",
    "version": 3
   },
   "file_extension": ".py",
   "mimetype": "text/x-python",
   "name": "python",
   "nbconvert_exporter": "python",
   "pygments_lexer": "ipython3",
   "version": "3.6.4"
  }
 },
 "nbformat": 4,
 "nbformat_minor": 4
}
