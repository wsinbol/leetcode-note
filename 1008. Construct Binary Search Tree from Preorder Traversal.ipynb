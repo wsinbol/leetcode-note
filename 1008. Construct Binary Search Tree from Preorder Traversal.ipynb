{
 "cells": [
  {
   "cell_type": "markdown",
   "metadata": {},
   "source": [
    "# [1008. Construct Binary Search Tree from Preorder Traversal](https://leetcode.com/problems/construct-binary-search-tree-from-preorder-traversal/)\n",
    "\n",
    "```\n",
    "Return the root node of a binary search tree that matches the given preorder traversal.\n",
    "\n",
    "(Recall that a binary search tree is a binary tree where for every node, any descendant of node.left has a value < node.val, and any descendant of node.right has a value > node.val.  Also recall that a preorder traversal displays the value of the node first, then traverses node.left, then traverses node.right.)\n",
    "\n",
    "It's guaranteed that for the given test cases there is always possible to find a binary search tree with the given requirements.\n",
    "```\n",
    "\n",
    "## Iterative Solution\n",
    "\n",
    "```python\n",
    "    def bstFromPreorder(self, preorder: List[int]) -> TreeNode:\n",
    "        val = preorder.pop(0)\n",
    "        root = TreeNode(val)\n",
    "        stack = [root]\n",
    "        \n",
    "        while stack and preorder:\n",
    "            parent = None\n",
    "            cur = preorder.pop(0)\n",
    "            node = TreeNode(cur)\n",
    "            while stack and stack[-1].val < cur:\n",
    "                parent = stack.pop()\n",
    "            if parent:\n",
    "                parent.right = node\n",
    "            else:\n",
    "                stack[-1].left = node\n",
    "                \n",
    "            stack.append(node)\n",
    "            \n",
    "        return root\n",
    "```\n",
    "\n",
    "## Recursive Solution\n",
    "\n",
    "视频讲解 https://www.youtube.com/watch?v=9sw8RRsBw6s\n",
    "\n",
    "bound 参数是当前节点的右侧上限\n",
    "\n",
    "```python\n",
    "    def bstFromPreorder(self, preorder: List[int]) -> TreeNode:\n",
    "        self.i = 0\n",
    "        def dfs(A, bound):\n",
    "            if self.i == len(A) or A[self.i] > bound:\n",
    "                return None\n",
    "            \n",
    "            node = TreeNode(A[self.i])\n",
    "            self.i += 1\n",
    "            node.left = dfs(A, node.val)\n",
    "            node.right = dfs(A, bound)\n",
    "            return node\n",
    "        \n",
    "        return dfs(preorder, float('inf'))\n",
    "```"
   ]
  }
 ],
 "metadata": {
  "kernelspec": {
   "display_name": "Python 3",
   "language": "python",
   "name": "python3"
  },
  "language_info": {
   "codemirror_mode": {
    "name": "ipython",
    "version": 3
   },
   "file_extension": ".py",
   "mimetype": "text/x-python",
   "name": "python",
   "nbconvert_exporter": "python",
   "pygments_lexer": "ipython3",
   "version": "3.6.4"
  }
 },
 "nbformat": 4,
 "nbformat_minor": 4
}
