{
 "cells": [
  {
   "cell_type": "markdown",
   "metadata": {},
   "source": [
    "# [863. All Nodes Distance K in Binary Tree](https://leetcode.com/problems/all-nodes-distance-k-in-binary-tree/)\n",
    "\n",
    "We are given a binary tree (with root node root), a target node, and an integer value K.\n",
    "\n",
    "Return a list of the values of all nodes that have a distance K from the target node.  The answer can be returned in any order.\n",
    "\n",
    "## 自己版\n",
    "\n",
    "这道题如果是向下寻找相距为 K 的节点就很好处理了，但是题目要的是全局的。所以我的想法是把 树 转成 图，这样遍历 图 就可以完成了！\n",
    "\n",
    "```python\n",
    "    def distanceK(self, root: TreeNode, target: TreeNode, K: int) -> List[int]:\n",
    "        graph = collections.defaultdict(set)\n",
    "        def dfs(node):\n",
    "            if node:\n",
    "                if node.left:\n",
    "                    graph[node.val].add(node.left.val)\n",
    "                    graph[node.left.val].add(node.val)\n",
    "                    \n",
    "                if node.right:\n",
    "                    graph[node.val].add(node.right.val)\n",
    "                    graph[node.right.val].add(node.val)\n",
    "                \n",
    "                dfs(node.left)\n",
    "                dfs(node.right)\n",
    "                \n",
    "        dfs(root)\n",
    "        \n",
    "        queue = [(target.val,0)]\n",
    "        visited = set([target.val])\n",
    "        res = []\n",
    "        while queue:\n",
    "            size = len(queue)\n",
    "            for i in range(size):\n",
    "                current,length = queue.pop(0)\n",
    "                if length == K:\n",
    "                    res.append(current)\n",
    "                for v in graph[current]:\n",
    "                    if v not in visited:\n",
    "                        visited.add(v)\n",
    "                        queue.append((v,length+1))\n",
    "                \n",
    "        return res\n",
    "```"
   ]
  }
 ],
 "metadata": {
  "kernelspec": {
   "display_name": "Python 3",
   "language": "python",
   "name": "python3"
  },
  "language_info": {
   "codemirror_mode": {
    "name": "ipython",
    "version": 3
   },
   "file_extension": ".py",
   "mimetype": "text/x-python",
   "name": "python",
   "nbconvert_exporter": "python",
   "pygments_lexer": "ipython3",
   "version": "3.6.4"
  }
 },
 "nbformat": 4,
 "nbformat_minor": 4
}
