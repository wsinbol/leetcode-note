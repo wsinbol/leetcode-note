{
 "cells": [
  {
   "cell_type": "markdown",
   "metadata": {},
   "source": [
    "# [965. Univalued Binary Tree](https://leetcode.com/problems/univalued-binary-tree/)\n",
    "\n",
    "A binary tree is univalued if every node in the tree has the same value.\n",
    "\n",
    "Return true if and only if the given tree is univalued.\n",
    "\n",
    "## 分析\n",
    "\n",
    "这道题本身不是很难，但是要想成功跑通所有的测试用例却不是那么简单。\n",
    "\n",
    "先看下我第一次写的，按理说思路是没问题的，判断每一个节点与根节点的值，不一样则返回False，一样则返回True，直到遍历完整个树。\n",
    "\n",
    "```\n",
    "#1\n",
    "def isUnivalTree(self, root: TreeNode) -> bool:\n",
    "    def compare(root_node,node):\n",
    "        if node:\n",
    "            if root_node.val != node.val:\n",
    "                return False\n",
    "            return True\n",
    "        return compare(root_node,root_node.left) and compare(root_node,root_node.right)\n",
    "\n",
    "    return compare(root,root)\n",
    "    \n",
    "```\n",
    "\n",
    "结果确实 Wrong Answer!\n",
    "\n",
    "然后改成：\n",
    "\n",
    "```\n",
    "#2\n",
    "def isUnivalTree(self, root: TreeNode) -> bool:\n",
    "    def compare(root_node,node):\n",
    "        if not node:\n",
    "            return True\n",
    "\n",
    "        if root_node.val != node.val:\n",
    "            return False\n",
    "\n",
    "        return compare(root_node,node.left) and compare(root_node,node.right)\n",
    "\n",
    "    return compare(root,root)\n",
    "```\n",
    "\n",
    "为啥会这样嘞？然后看了下 leetcode [高票区的问答](https://leetcode.com/problems/univalued-binary-tree/discuss/211978/Simple-Python-Solution-Beats-100/265826)，在第一个问题中，有人和我同样的感觉：\n",
    "\n",
    "> The difference is this: code 1 will recursively traverse all nodes in the given Tree but code 2 will return True or False immediately when encountered root.\n",
    "\n",
    "而针对我这种情况，也就是 #1 总是返回 True，并且不会向下迭代，在遍历到 root 时就返回结果。而 #2 在遇到不相等数据的时候才会返回 False，而这个 False 也就是最终结果，如果没遇到 False，就会不断的向下递归，直到返回最终的 True。"
   ]
  }
 ],
 "metadata": {
  "kernelspec": {
   "display_name": "Python 3",
   "language": "python",
   "name": "python3"
  },
  "language_info": {
   "codemirror_mode": {
    "name": "ipython",
    "version": 3
   },
   "file_extension": ".py",
   "mimetype": "text/x-python",
   "name": "python",
   "nbconvert_exporter": "python",
   "pygments_lexer": "ipython3",
   "version": "3.6.4"
  }
 },
 "nbformat": 4,
 "nbformat_minor": 4
}
