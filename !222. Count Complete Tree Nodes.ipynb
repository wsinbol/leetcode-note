{
 "cells": [
  {
   "cell_type": "markdown",
   "metadata": {},
   "source": [
    "# [222. Count Complete Tree Nodes](https://leetcode.com/problems/count-complete-tree-nodes/)\n",
    "\n",
    "Given a complete binary tree, count the number of nodes.\n",
    "\n",
    "```\n",
    "In a complete binary tree every level, except possibly the last, is completely filled, and all nodes in the last level are as far left as possible. It can have between 1 and 2h nodes inclusive at the last level h.\n",
    "```\n",
    "\n",
    "这道题的递归版和迭代版很好写，但是过于平常，而且没有利用完全二叉树的特性！所以着重看下下面的方法：\n",
    "\n",
    "## 迭代版\n",
    "\n",
    "```python\n",
    "    def countNodes(self, root: TreeNode) -> int:\n",
    "        nodes = 0\n",
    "        h = self.height(root)\n",
    "        while root:\n",
    "            if self.height(root.right) == h - 1:\n",
    "                nodes += 2**h\n",
    "                root = root.right\n",
    "            else:\n",
    "                nodes += 2**(h-1)\n",
    "                root = root.left\n",
    "            h -= 1\n",
    "            \n",
    "        return nodes\n",
    "        \n",
    "    def height(self, node):\n",
    "        return -1 if node == None else 1 + self.height(node.left)\n",
    "```"
   ]
  }
 ],
 "metadata": {
  "kernelspec": {
   "display_name": "Python 3",
   "language": "python",
   "name": "python3"
  },
  "language_info": {
   "codemirror_mode": {
    "name": "ipython",
    "version": 3
   },
   "file_extension": ".py",
   "mimetype": "text/x-python",
   "name": "python",
   "nbconvert_exporter": "python",
   "pygments_lexer": "ipython3",
   "version": "3.6.4"
  }
 },
 "nbformat": 4,
 "nbformat_minor": 4
}
