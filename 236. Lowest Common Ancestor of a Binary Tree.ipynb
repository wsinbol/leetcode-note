{
 "cells": [
  {
   "cell_type": "markdown",
   "metadata": {},
   "source": [
    "# [236. Lowest Common Ancestor of a Binary Tree](https://leetcode.com/problems/lowest-common-ancestor-of-a-binary-tree/)\n",
    "\n",
    "Given a binary tree, find the lowest common ancestor (LCA) of two given nodes in the tree.\n",
    "\n",
    "According to the definition of LCA on Wikipedia: “The lowest common ancestor is defined between two nodes p and q as the lowest node in T that has both p and q as descendants (where we allow a node to be a descendant of itself).”\n",
    "\n",
    "## 自己版\n",
    "\n",
    "借助字典先计算每一个节点的父级节点，可以通过集合的交集操作找到公共父级节点，但是出现问题了：因为集合的无序性，难以确定谁是最低父节点，不然还要存储层级。。。感觉此思路不妥！\n",
    "\n",
    "```\n",
    "from collections import defaultdict\n",
    "class Solution:\n",
    "    def lowestCommonAncestor(self, root: 'TreeNode', p: 'TreeNode', q: 'TreeNode') -> 'TreeNode':\n",
    "        res = defaultdict(list)\n",
    "        def dfs(node, parent):\n",
    "            if node:\n",
    "                res[node.val].extend(parent+[node.val])\n",
    "                dfs(node.left, parent+[node.val])\n",
    "                dfs(node.right, parent+[node.val])\n",
    "                \n",
    "        dfs(root, [])\n",
    "        # print(res[p.val])\n",
    "        # print(res)\n",
    "        r = set(res[p.val]) & set(res[q.val])\n",
    "        print(r)\n",
    "            \n",
    "```"
   ]
  }
 ],
 "metadata": {
  "kernelspec": {
   "display_name": "Python 3",
   "language": "python",
   "name": "python3"
  },
  "language_info": {
   "codemirror_mode": {
    "name": "ipython",
    "version": 3
   },
   "file_extension": ".py",
   "mimetype": "text/x-python",
   "name": "python",
   "nbconvert_exporter": "python",
   "pygments_lexer": "ipython3",
   "version": "3.6.7"
  }
 },
 "nbformat": 4,
 "nbformat_minor": 4
}
