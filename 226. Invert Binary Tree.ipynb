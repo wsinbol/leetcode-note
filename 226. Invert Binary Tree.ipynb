{
 "cells": [
  {
   "cell_type": "markdown",
   "metadata": {},
   "source": [
    "# [226. Invert Binary Tree](https://leetcode.com/problems/invert-binary-tree/)\n",
    "\n",
    "如题，要求反转一棵二叉树，使其原来的左子树变为现在的右子树，原来的右子树变为现在的左子树。\n",
    "\n",
    "最先想到的肯定就是递归了，抱着试试看的想法，我写出：\n",
    "\n",
    "## 递归版\n",
    "\n",
    "```\n",
    "def invertTree(self, root: TreeNode) -> TreeNode:\n",
    "    if not root:\n",
    "        return\n",
    "    root.left,root.right = self.invertTree(root.right),self.invertTree(root.left)\n",
    "    return root\n",
    "```\n",
    "\n",
    "执行了一下默认的测试用例，索性提交，amazing...,通过！高票区里看了下答案，竟然和大神的写法如出一辙。\n",
    "\n",
    "## 迭代版\n",
    "\n",
    "迭代版采用的方法还是借助队列的特性，通过队列先入先出的特点完成遍历流程。\n",
    "\n",
    "```\n",
    "def invertTree(self, root: TreeNode) -> TreeNode:\n",
    "    queue = [root]\n",
    "    while len(queue) > 0:\n",
    "        current_node = queue.pop(0)\n",
    "        if current_node:\n",
    "            current_node.left,current_node.right = current_node.right,current_node.left\n",
    "            queue.append(current_node.left)\n",
    "            queue.append(current_node.right)\n",
    "    return root\n",
    "```"
   ]
  },
  {
   "cell_type": "code",
   "execution_count": null,
   "metadata": {},
   "outputs": [],
   "source": []
  }
 ],
 "metadata": {
  "kernelspec": {
   "display_name": "Python 3",
   "language": "python",
   "name": "python3"
  },
  "language_info": {
   "codemirror_mode": {
    "name": "ipython",
    "version": 3
   },
   "file_extension": ".py",
   "mimetype": "text/x-python",
   "name": "python",
   "nbconvert_exporter": "python",
   "pygments_lexer": "ipython3",
   "version": "3.6.4"
  }
 },
 "nbformat": 4,
 "nbformat_minor": 4
}
