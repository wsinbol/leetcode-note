{
 "cells": [
  {
   "cell_type": "markdown",
   "metadata": {},
   "source": [
    "# [297. Serialize and Deserialize Binary Tree](https://leetcode.com/problems/serialize-and-deserialize-binary-tree/)\n",
    "\n",
    "Serialization is the process of converting a data structure or object into a sequence of bits so that it can be stored in a file or memory buffer, or transmitted across a network connection link to be reconstructed later in the same or another computer environment.\n",
    "\n",
    "Design an algorithm to serialize and deserialize a binary tree. There is no restriction on how your serialization/deserialization algorithm should work. You just need to ensure that a binary tree can be serialized to a string and this string can be deserialized to the original tree structure.\n",
    "\n",
    "## 大神版\n",
    "\n",
    "```python\n",
    "    def serialize(self, root):\n",
    "        \"\"\"Encodes a tree to a single string.\n",
    "        :type root: TreeNode\n",
    "        :rtype: str\n",
    "        \"\"\"\n",
    "        \n",
    "        def dfs(node):\n",
    "            if node:\n",
    "                vals.append(str(node.val))\n",
    "                dfs(node.left)\n",
    "                dfs(node.right)\n",
    "            else:\n",
    "                vals.append('#')\n",
    "                \n",
    "        vals = []\n",
    "        dfs(root)\n",
    "        return ' '.join(vals)\n",
    "\n",
    "        \n",
    "    # 这个函数写得尤为巧妙！\n",
    "    def deserialize(self, data):\n",
    "        \"\"\"Decodes your encoded data to tree.\n",
    "        :type data: str\n",
    "        :rtype: TreeNode\n",
    "        \"\"\"\n",
    "        \n",
    "        def dfs():\n",
    "            val = next(vals)\n",
    "            if val == '#':\n",
    "                return None\n",
    "            node = TreeNode(int(val))\n",
    "            node.left = dfs()\n",
    "            node.right = dfs()\n",
    "            return node\n",
    "        \n",
    "        vals = iter(data.split())\n",
    "        return dfs()\n",
    "```"
   ]
  }
 ],
 "metadata": {
  "kernelspec": {
   "display_name": "Python 3",
   "language": "python",
   "name": "python3"
  },
  "language_info": {
   "codemirror_mode": {
    "name": "ipython",
    "version": 3
   },
   "file_extension": ".py",
   "mimetype": "text/x-python",
   "name": "python",
   "nbconvert_exporter": "python",
   "pygments_lexer": "ipython3",
   "version": "3.6.4"
  }
 },
 "nbformat": 4,
 "nbformat_minor": 4
}
