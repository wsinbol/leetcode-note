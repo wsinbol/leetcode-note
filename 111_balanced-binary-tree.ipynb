{
 "cells": [
  {
   "cell_type": "markdown",
   "metadata": {},
   "source": [
    "# [111-平衡二叉树](https://leetcode-cn.com/problems/balanced-binary-tree/)\n",
    "\n",
    "平衡二叉树的特点：\n",
    "\n",
    "一个二叉树每个节点 的左右两个子树的高度差的绝对值不超过1。\n",
    "\n",
    "节点高度的定义：节点到叶子节点的最长路径（边数）"
   ]
  },
  {
   "cell_type": "markdown",
   "metadata": {},
   "source": [
    "## 第一版\n",
    "\n",
    "根据平衡二叉树的特点，每个节点的左右两个子树的高度差的绝对值不超过1，所以的出发点就是求整个树的最大高度和最小高度，然后做差，小于1表示是平衡二叉树，否则就是非平衡二叉树。"
   ]
  },
  {
   "cell_type": "markdown",
   "metadata": {},
   "source": [
    "```\n",
    "def isBalanced(self, root: TreeNode) -> bool:\n",
    "\n",
    "    def minDepth(node):\n",
    "        stack = [node]\n",
    "        depth = 1\n",
    "        while len(stack) > 0:\n",
    "            size = len(stack)\n",
    "            for i in range(size):\n",
    "                current_node = stack.pop(0)\n",
    "\n",
    "                if not current_node or current_node.left == None or current_node.right == None:\n",
    "                    return depth\n",
    "\n",
    "                if current_node.left:\n",
    "                    stack.append(current_node.left)\n",
    "\n",
    "                if current_node.right:\n",
    "                    stack.append(current_node.right)\n",
    "            depth += 1\n",
    "\n",
    "    def maxDepth(node):\n",
    "        if not node:\n",
    "            return 0\n",
    "\n",
    "        left_depth = maxDepth(node.left)\n",
    "        right_depth = maxDepth(node.right)\n",
    "        return max(left_depth, right_depth) + 1\n",
    "\n",
    "    m = minDepth(root)\n",
    "    n = maxDepth(root)\n",
    "    print(m,n)\n",
    "    if n - m < 1:\n",
    "        return True\n",
    "    else:\n",
    "        return False\n",
    "```"
   ]
  },
  {
   "cell_type": "markdown",
   "metadata": {},
   "source": [
    "但是，却无法跑通所有的测试用例，故此方法行不通。因为对节点的高度理解不透彻，而且题意也没理解！！！\n",
    "\n",
    "## 第二版：自顶向下递归版\n",
    "\n",
    "```\n",
    "def height(self,root):\n",
    "    if not root:\n",
    "        return -1\n",
    "\n",
    "    return 1 + max(self.height(root.left), self.height(root.right))\n",
    "\n",
    "def isBalanced(self, root: TreeNode) -> bool:\n",
    "    if not root:\n",
    "        return True\n",
    "\n",
    "    return abs(self.height(root.left) - self.height(root.right)) < 2 and self.isBalanced(root.left) and self.isBalanced(root.right)\n",
    "```\n",
    "\n",
    "## 第三版：自底向上递归版\n",
    "\n",
    "是第二版的优化版，避免了重复子的计算问题。\n",
    "\n",
    "```\n",
    "def isBalancedHelper(self, root):\n",
    "    if not root:\n",
    "        return True,0\n",
    "\n",
    "    is_left,left_val = self.isBalancedHelper(root.left)\n",
    "    if not is_left:\n",
    "        return False,-1\n",
    "\n",
    "    is_right,right_val = self.isBalancedHelper(root.right)\n",
    "    if not is_right:\n",
    "        return False,-1\n",
    "\n",
    "    return (abs(right_val - left_val) < 2,1 + max(left_val, right_val))\n",
    "\n",
    "def isBalanced(self, root: TreeNode) -> bool:\n",
    "    r = self.isBalancedHelper(root)[0]\n",
    "    return r\n",
    "```"
   ]
  },
  {
   "cell_type": "code",
   "execution_count": null,
   "metadata": {},
   "outputs": [],
   "source": []
  }
 ],
 "metadata": {
  "kernelspec": {
   "display_name": "Python 3",
   "language": "python",
   "name": "python3"
  },
  "language_info": {
   "codemirror_mode": {
    "name": "ipython",
    "version": 3
   },
   "file_extension": ".py",
   "mimetype": "text/x-python",
   "name": "python",
   "nbconvert_exporter": "python",
   "pygments_lexer": "ipython3",
   "version": "3.6.4"
  }
 },
 "nbformat": 4,
 "nbformat_minor": 4
}
