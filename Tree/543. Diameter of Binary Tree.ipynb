{
 "cells": [
  {
   "cell_type": "markdown",
   "metadata": {},
   "source": [
    "# [543. Diameter of Binary Tree](https://leetcode.com/problems/diameter-of-binary-tree/)\n",
    "\n",
    "Given a binary tree, you need to compute the length of the diameter of the tree. The diameter of a binary tree is the length of the longest path between any two nodes in a tree. This path may or may not pass through the root.\n",
    "\n",
    "这道题的落点可以理解为计算树中每一个节点的最长路径+最短路径，求这些 最长路径+最短路径 的最大值即为该题的最终答案。\n",
    "\n",
    "```\n",
    "def diameterOfBinaryTree(self, root: TreeNode) -> int:\n",
    "    self.res = 0\n",
    "    def depth(node):\n",
    "        if not node:\n",
    "            return 0\n",
    "\n",
    "        left = depth(node.left)\n",
    "        right = depth(node.right)\n",
    "        self.res = max(left+right, self.res)\n",
    "        return max(left, right) + 1\n",
    "\n",
    "    depth(root)\n",
    "    return self.res\n",
    "```"
   ]
  }
 ],
 "metadata": {
  "kernelspec": {
   "display_name": "Python 3",
   "language": "python",
   "name": "python3"
  },
  "language_info": {
   "codemirror_mode": {
    "name": "ipython",
    "version": 3
   },
   "file_extension": ".py",
   "mimetype": "text/x-python",
   "name": "python",
   "nbconvert_exporter": "python",
   "pygments_lexer": "ipython3",
   "version": "3.6.4"
  }
 },
 "nbformat": 4,
 "nbformat_minor": 4
}
