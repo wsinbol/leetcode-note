{
 "cells": [
  {
   "cell_type": "markdown",
   "metadata": {},
   "source": [
    "# [971. Flip Binary Tree To Match Preorder Traversal](https://leetcode.com/problems/flip-binary-tree-to-match-preorder-traversal/)\n",
    "\n",
    "Given a binary tree with N nodes, each node has a different value from {1, ..., N}.\n",
    "\n",
    "A node in this binary tree can be flipped by swapping the left child and the right child of that node.\n",
    "\n",
    "Consider the sequence of N values reported by a preorder traversal starting from the root.  Call such a sequence of N values the voyage of the tree.\n",
    "\n",
    "(Recall that a preorder traversal of a node means we report the current node's value, then preorder-traverse the left child, then preorder-traverse the right child.)\n",
    "\n",
    "Our goal is to flip the least number of nodes in the tree so that the voyage of the tree matches the voyage we are given.\n",
    "\n",
    "If we can do so, then return a list of the values of all nodes flipped.  You may return the answer in any order.\n",
    "\n",
    "If we cannot do so, then return the list [-1].\n",
    "\n",
    "```python\n",
    "    def flipMatchVoyage(self, root: TreeNode, voyage: List[int]) -> List[int]:\n",
    "        self.i = 0\n",
    "        res = []\n",
    "        \n",
    "        def dfs(node):\n",
    "            if node == None:\n",
    "                return True\n",
    "            if node.val != voyage[self.i]:\n",
    "                return False\n",
    "            \n",
    "            self.i += 1\n",
    "            if node.left and node.left.val != voyage[self.i]:\n",
    "                res.append(node.val)\n",
    "                node.left,node.right = node.right, node.left\n",
    "                \n",
    "            return dfs(node.left) and dfs(node.right)\n",
    "        \n",
    "        return res if dfs(root) else [-1]\n",
    "```"
   ]
  }
 ],
 "metadata": {
  "kernelspec": {
   "display_name": "Python 3",
   "language": "python",
   "name": "python3"
  },
  "language_info": {
   "codemirror_mode": {
    "name": "ipython",
    "version": 3
   },
   "file_extension": ".py",
   "mimetype": "text/x-python",
   "name": "python",
   "nbconvert_exporter": "python",
   "pygments_lexer": "ipython3",
   "version": "3.6.4"
  }
 },
 "nbformat": 4,
 "nbformat_minor": 4
}
