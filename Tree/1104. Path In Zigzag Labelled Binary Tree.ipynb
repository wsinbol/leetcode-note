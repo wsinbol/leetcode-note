{
 "cells": [
  {
   "cell_type": "markdown",
   "metadata": {},
   "source": [
    "# [1104. Path In Zigzag Labelled Binary Tree](https://leetcode.com/problems/path-in-zigzag-labelled-binary-tree/)\n",
    "\n",
    "In an infinite binary tree where every node has two children, the nodes are labelled in row order.\n",
    "\n",
    "In the odd numbered rows (ie., the first, third, fifth,...), the labelling is left to right, while in the even numbered rows (second, fourth, sixth,...), the labelling is right to left.\n",
    "\n",
    "Given the label of a node in this tree, return the labels in the path from the root of the tree to the node with that label.\n",
    "\n",
    "## 自己版\n",
    "\n",
    "可以想到的这道题是一个规律题，找到 label 与父节点的关系，那么这个问题也就迎刃而解了。在纸上画了一会，无果。\n",
    "\n",
    "## [高票版](https://leetcode.com/problems/path-in-zigzag-labelled-binary-tree/discuss/324011/Python-O(logn)-time-and-space-with-readable-code-and-step-by-step-explanation)\n",
    "\n",
    "详细解释见：https://leetcode.com/problems/path-in-zigzag-labelled-binary-tree/discuss/324011/Python-O(logn)-time-and-space-with-readable-code-and-step-by-step-explanation\n",
    "\n",
    "```\n",
    "    def pathInZigZagTree(self, label: int) -> List[int]:\n",
    "        res = []\n",
    "        node_val = 1\n",
    "        node_level = 1\n",
    "        \n",
    "        while label >= node_val * 2:\n",
    "            node_val *= 2\n",
    "            node_level += 1\n",
    "            \n",
    "        while label != 0:\n",
    "            res.append(label)\n",
    "            level_max = 2**(node_level)-1\n",
    "            level_min = 2**(node_level-1)\n",
    "            label = int((level_max + level_min - label) / 2)\n",
    "            node_level -= 1\n",
    "            \n",
    "        return res[::-1]\n",
    "```\n",
    "\n",
    "其中，在 import math 后，可以使用 math.log 方法求解高度。\n",
    "```\n",
    "node_level = int(math.log(label,2)) + 1\n",
    "```"
   ]
  }
 ],
 "metadata": {
  "kernelspec": {
   "display_name": "Python 3",
   "language": "python",
   "name": "python3"
  },
  "language_info": {
   "codemirror_mode": {
    "name": "ipython",
    "version": 3
   },
   "file_extension": ".py",
   "mimetype": "text/x-python",
   "name": "python",
   "nbconvert_exporter": "python",
   "pygments_lexer": "ipython3",
   "version": "3.6.4"
  }
 },
 "nbformat": 4,
 "nbformat_minor": 4
}
