{
 "cells": [
  {
   "cell_type": "markdown",
   "metadata": {},
   "source": [
    "# [94. Binary Tree Inorder Traversal](https://leetcode.com/problems/binary-tree-inorder-traversal/)\n",
    "\n",
    "Given a binary tree, return the inorder traversal of its nodes' values.\n",
    "\n",
    "## 自己版\n",
    "\n",
    "- DFS\n",
    "\n",
    "```\n",
    "    def inorderTraversal(self, root: TreeNode) -> List[int]:\n",
    "        res = []\n",
    "        def dfs(node):\n",
    "            if node:\n",
    "                dfs(node.left)\n",
    "                res.append(node.val)\n",
    "                dfs(node.right)\n",
    "                \n",
    "        dfs(root)\n",
    "        return res\n",
    "```\n",
    "\n",
    "## BFS 版\n",
    "\n",
    "DFS 版非常容易理解和写出，BFS 版确实需要花点时间了：\n",
    "\n",
    "```\n",
    "    def inorderTraversal(self, root: TreeNode) -> List[int]:\n",
    "        stack = []\n",
    "        res = []\n",
    "        cur = root\n",
    "        \n",
    "        while cur != None or len(stack) > 0:\n",
    "            while cur != None: # Travel to each node's left child, till reach the left leaf\n",
    "                stack.append(cur)\n",
    "                cur = cur.left\n",
    "                \n",
    "            cur = stack.pop() # Backtrack to higher level node A\n",
    "            res.append(cur.val) # Add the node to the result list\n",
    "            cur = cur.right # Switch to A'right branch\n",
    "            \n",
    "        return res\n",
    "```"
   ]
  }
 ],
 "metadata": {
  "kernelspec": {
   "display_name": "Python 3",
   "language": "python",
   "name": "python3"
  },
  "language_info": {
   "codemirror_mode": {
    "name": "ipython",
    "version": 3
   },
   "file_extension": ".py",
   "mimetype": "text/x-python",
   "name": "python",
   "nbconvert_exporter": "python",
   "pygments_lexer": "ipython3",
   "version": "3.6.4"
  }
 },
 "nbformat": 4,
 "nbformat_minor": 4
}
