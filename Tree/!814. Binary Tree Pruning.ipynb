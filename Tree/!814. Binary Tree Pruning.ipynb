{
 "cells": [
  {
   "cell_type": "markdown",
   "metadata": {},
   "source": [
    "# [814. Binary Tree Pruning](https://leetcode.com/problems/binary-tree-pruning/)\n",
    "\n",
    "We are given the head node root of a binary tree, where additionally every node's value is either a 0 or a 1.\n",
    "\n",
    "Return the same tree where every subtree (of the given tree) not containing a 1 has been removed.\n",
    "\n",
    "(Recall that the subtree of a node X is X, plus every node that is a descendant of X.)\n",
    "\n",
    "```\n",
    "    def pruneTree(self, root: TreeNode) -> TreeNode:\n",
    "        if not root:\n",
    "            return \n",
    "        \n",
    "        root.left = self.pruneTree(root.left)\n",
    "        root.right = self.pruneTree(root.right)\n",
    "        if root.val == 0 and root.left is None and root.right is None:\n",
    "            return\n",
    "        else:\n",
    "            return root\n",
    "```\n",
    "\n",
    "```\n",
    "    def pruneTree(self, root):\n",
    "        if not root: return None\n",
    "        root.left = self.pruneTree(root.left)\n",
    "        root.right = self.pruneTree(root.right)\n",
    "        if not root.left and not root.right and not root.val: return None\n",
    "        return root\n",
    "```\n",
    "\n",
    "```\n",
    "    def pruneTree(self, root: TreeNode) -> TreeNode:\n",
    "        def dfs(node):\n",
    "            if not node:\n",
    "                return \n",
    "            \n",
    "            left = dfs(node.left)\n",
    "            right = dfs(node.right)\n",
    "            if not left:\n",
    "                node.left = None\n",
    "            if not right:\n",
    "                node.right = None\n",
    "            return node.val == 1 or left or right\n",
    "        \n",
    "        return root if dfs(root) else None\n",
    "```"
   ]
  }
 ],
 "metadata": {
  "kernelspec": {
   "display_name": "Python 3",
   "language": "python",
   "name": "python3"
  },
  "language_info": {
   "codemirror_mode": {
    "name": "ipython",
    "version": 3
   },
   "file_extension": ".py",
   "mimetype": "text/x-python",
   "name": "python",
   "nbconvert_exporter": "python",
   "pygments_lexer": "ipython3",
   "version": "3.6.4"
  }
 },
 "nbformat": 4,
 "nbformat_minor": 4
}
