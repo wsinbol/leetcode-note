{
 "cells": [
  {
   "cell_type": "markdown",
   "metadata": {},
   "source": [
    "# [538&1038. Convert BST to Greater Tree](https://leetcode.com/problems/convert-bst-to-greater-tree/)\n",
    "\n",
    "Given a Binary Search Tree (BST), convert it to a Greater Tree such that every key of the original BST is changed to the original key plus sum of all keys greater than the original key in BST.\n",
    "\n",
    "## DFS-反向中序遍历\n",
    "\n",
    "```\n",
    "    def convertBST(self, root: TreeNode) -> TreeNode:\n",
    "        self.res = 0\n",
    "        def dfs(node):\n",
    "            if node:\n",
    "                dfs(node.right)\n",
    "                self.res = self.res + node.val\n",
    "                node.val = self.res\n",
    "                dfs(node.left)\n",
    "            return node\n",
    "        \n",
    "        return dfs(root)\n",
    "```\n",
    "\n",
    "## BFS - 反向中序遍历\n",
    "\n",
    "思路和上一个方法基本一致，只是实现方式不同：借助队列来实现！\n",
    "\n",
    "```\n",
    "    def convertBST(self, root: TreeNode) -> TreeNode:\n",
    "        total = 0\n",
    "        \n",
    "        node = root\n",
    "        stack = []\n",
    "        while stack or node is not None:\n",
    "            while node is not None:\n",
    "                stack.append(node)\n",
    "                node = node.right\n",
    "                \n",
    "            node = stack.pop()\n",
    "            total += node.val\n",
    "            node.val = total\n",
    "            \n",
    "            node = node.left\n",
    "            \n",
    "        return root\n",
    "```"
   ]
  }
 ],
 "metadata": {
  "kernelspec": {
   "display_name": "Python 3",
   "language": "python",
   "name": "python3"
  },
  "language_info": {
   "codemirror_mode": {
    "name": "ipython",
    "version": 3
   },
   "file_extension": ".py",
   "mimetype": "text/x-python",
   "name": "python",
   "nbconvert_exporter": "python",
   "pygments_lexer": "ipython3",
   "version": "3.6.4"
  }
 },
 "nbformat": 4,
 "nbformat_minor": 4
}
