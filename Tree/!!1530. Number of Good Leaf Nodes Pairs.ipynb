{
 "cells": [
  {
   "cell_type": "markdown",
   "metadata": {},
   "source": [
    "# [1530. Number of Good Leaf Nodes Pairs](https://leetcode.com/problems/number-of-good-leaf-nodes-pairs/)\n",
    "\n",
    "```\n",
    "Given the root of a binary tree and an integer distance. A pair of two different leaf nodes of a binary tree is said to be good if the length of the shortest path between them is less than or equal to distance.\n",
    "\n",
    "Return the number of good leaf node pairs in the tree.\n",
    "```\n",
    "\n",
    "## 高票版\n",
    "\n",
    "```python\n",
    "class Solution:\n",
    "    def countPairs(self, root: TreeNode, distance: int) -> int:\n",
    "        self.count = 0\n",
    "        def dfs(node):\n",
    "            if not node:\n",
    "                return []\n",
    "            if node.left == None and node.right == None:\n",
    "                return [1]\n",
    "            \n",
    "            left = dfs(node.left)\n",
    "            right = dfs(node.right)\n",
    "            \n",
    "            #1\n",
    "            # self.count += sum(l+r <= distance for l in left for r in right)\n",
    "            \n",
    "            #2\n",
    "            for l in left:\n",
    "                for r in right:\n",
    "                    if l+r <= distance:\n",
    "                        self.count += 1\n",
    "                        \n",
    "            # 1 和 2 是等价的，but 1 我没读懂\n",
    "                        \n",
    "            return [n+1 for n in left+right if n+1 < distance]\n",
    "        \n",
    "        dfs(root)\n",
    "        return self.count\n",
    "```"
   ]
  }
 ],
 "metadata": {
  "kernelspec": {
   "display_name": "Python 3",
   "language": "python",
   "name": "python3"
  },
  "language_info": {
   "codemirror_mode": {
    "name": "ipython",
    "version": 3
   },
   "file_extension": ".py",
   "mimetype": "text/x-python",
   "name": "python",
   "nbconvert_exporter": "python",
   "pygments_lexer": "ipython3",
   "version": "3.6.4"
  }
 },
 "nbformat": 4,
 "nbformat_minor": 4
}
