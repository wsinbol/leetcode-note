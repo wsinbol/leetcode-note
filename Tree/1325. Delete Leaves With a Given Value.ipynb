{
 "cells": [
  {
   "cell_type": "markdown",
   "metadata": {},
   "source": [
    "# [1325. Delete Leaves With a Given Value](https://leetcode.com/problems/delete-leaves-with-a-given-value/)\n",
    "\n",
    "Given a binary tree root and an integer target, delete all the leaf nodes with value target.\n",
    "\n",
    "Note that once you delete a leaf node with value target, if it's parent node becomes a leaf node and has the value target, it should also be deleted (you need to continue doing that until you can't).\n",
    "\n",
    "## DIY\n",
    "\n",
    "```python\n",
    "class Solution:\n",
    "    def removeLeafNodes(self, root: TreeNode, target: int) -> TreeNode:\n",
    "        def dfs(node):\n",
    "            if node:\n",
    "                node.left = dfs(node.left)\n",
    "                node.right = dfs(node.right)\n",
    "                if node.val == target and node.left is None and node.right is None:\n",
    "                    return None\n",
    "                else:\n",
    "                    return node\n",
    "        return dfs(root)\n",
    "```\n",
    "\n",
    "```python\n",
    "    def removeLeafNodes(self, root: TreeNode, target: int) -> TreeNode:\n",
    "        if root:\n",
    "            root.left = self.removeLeafNodes(root.left, target)\n",
    "            root.right = self.removeLeafNodes(root.right, target)\n",
    "            if root.val == target and root.left == None and root.right == None:\n",
    "                return None\n",
    "            else:\n",
    "                return root\n",
    "```"
   ]
  }
 ],
 "metadata": {
  "kernelspec": {
   "display_name": "Python 3",
   "language": "python",
   "name": "python3"
  },
  "language_info": {
   "codemirror_mode": {
    "name": "ipython",
    "version": 3
   },
   "file_extension": ".py",
   "mimetype": "text/x-python",
   "name": "python",
   "nbconvert_exporter": "python",
   "pygments_lexer": "ipython3",
   "version": "3.6.4"
  }
 },
 "nbformat": 4,
 "nbformat_minor": 4
}
