{
 "cells": [
  {
   "cell_type": "markdown",
   "metadata": {},
   "source": [
    "# [1457. Pseudo-Palindromic Paths in a Binary Tree](https://leetcode.com/problems/pseudo-palindromic-paths-in-a-binary-tree/)\n",
    "\n",
    "Given a binary tree where node values are digits from 1 to 9. A path in the binary tree is said to be pseudo-palindromic if at least one permutation of the node values in the path is a palindrome.\n",
    "\n",
    "Return the number of pseudo-palindromic paths going from the root node to leaf nodes.\n",
    "\n",
    "# Tips\n",
    "\n",
    "这里重点要说一下构成回文序列的必要条件，就是 奇数个数的元素不能超过1个！\n",
    "\n",
    "视频版 https://www.youtube.com/watch?v=Ia2OAm9OzP0\n",
    "\n",
    "```python\n",
    "class Solution:\n",
    "    def pseudoPalindromicPaths (self, root: TreeNode) -> int:\n",
    "        \n",
    "        def preorder(node, cnt):\n",
    "            if not node:\n",
    "                return 0\n",
    "            \n",
    "            cnt[node.val] += 1\n",
    "            if node.left == None and node.right == None:\n",
    "                return 1 if sum(c % 2 for c in cnt) < 2 else 0\n",
    "            \n",
    "            return preorder(node.left, cnt[:]) + preorder(node.right, cnt[:])\n",
    "        \n",
    "        return preorder(root, [0]*10)\n",
    "```"
   ]
  }
 ],
 "metadata": {
  "kernelspec": {
   "display_name": "Python 3",
   "language": "python",
   "name": "python3"
  },
  "language_info": {
   "codemirror_mode": {
    "name": "ipython",
    "version": 3
   },
   "file_extension": ".py",
   "mimetype": "text/x-python",
   "name": "python",
   "nbconvert_exporter": "python",
   "pygments_lexer": "ipython3",
   "version": "3.6.4"
  }
 },
 "nbformat": 4,
 "nbformat_minor": 4
}