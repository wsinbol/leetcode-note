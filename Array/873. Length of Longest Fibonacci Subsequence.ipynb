{
 "cells": [
  {
   "cell_type": "markdown",
   "metadata": {},
   "source": [
    "# 873. Length of Longest Fibonacci Subsequence\n",
    "\n",
    "```\n",
    "A sequence X_1, X_2, ..., X_n is fibonacci-like if:\n",
    "\n",
    "- n >= 3\n",
    "- X_i + X_{i+1} = X_{i+2} for all i + 2 <= n\n",
    "\n",
    "Given a strictly increasing array A of positive integers forming a sequence, find the length of the longest fibonacci-like subsequence of A.  If one does not exist, return 0.\n",
    "\n",
    "(Recall that a subsequence is derived from another sequence A by deleting any number of elements (including none) from A, without changing the order of the remaining elements.  For example, [3, 5, 8] is a subsequence of [3, 4, 5, 6, 7, 8].)\n",
    "```\n",
    "\n",
    "```python\n",
    "class Solution:\n",
    "    def lenLongestFibSubseq(self, A: List[int]) -> int:\n",
    "        dp = collections.defaultdict(int)\n",
    "        s = set(A)\n",
    "        for j in range(len(A)):\n",
    "            for i in range(j):\n",
    "                if A[j] - A[i] < A[i] and A[j] - A[i] in s:\n",
    "                    dp[A[i], A[j]] = dp.get((A[j] - A[i], A[i]), 2) + 1\n",
    "        return max(dp.values() or [0])\n",
    "```"
   ]
  }
 ],
 "metadata": {
  "kernelspec": {
   "display_name": "Python 3",
   "language": "python",
   "name": "python3"
  },
  "language_info": {
   "codemirror_mode": {
    "name": "ipython",
    "version": 3
   },
   "file_extension": ".py",
   "mimetype": "text/x-python",
   "name": "python",
   "nbconvert_exporter": "python",
   "pygments_lexer": "ipython3",
   "version": "3.6.4"
  }
 },
 "nbformat": 4,
 "nbformat_minor": 4
}
