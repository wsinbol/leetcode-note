{
 "cells": [
  {
   "cell_type": "markdown",
   "metadata": {},
   "source": [
    "# [697. Degree of an Array](https://leetcode.com/problems/degree-of-an-array/)\n",
    "\n",
    "Given a non-empty array of non-negative integers nums, the degree of this array is defined as the maximum frequency of any one of its elements.\n",
    "\n",
    "Your task is to find the smallest possible length of a (contiguous) subarray of nums, that has the same degree as nums.\n",
    "\n",
    "```\n",
    "One pass on A,\n",
    "For each different number a in A,\n",
    "we need to count its frequency and it first occurrence index.\n",
    "\n",
    "If a has the maximum frequency,\n",
    "update the degree = count[a] and res = i - first[A[i]] + 1.\n",
    "\n",
    "If a is one of the numbers that has the maximum frequency,\n",
    "update the res = min(res, i - first[A[i]] + 1)\n",
    "```\n",
    "\n",
    "```python\n",
    "class Solution:\n",
    "    def findShortestSubArray(self, nums: List[int]) -> int:\n",
    "        first, count, res, degree = {}, {}, 0, 0\n",
    "        for i, a in enumerate(nums):\n",
    "            first.setdefault(a, i)\n",
    "            count[a] = count.get(a, 0)+1\n",
    "            if count[a] > degree:\n",
    "                degree = count[a]\n",
    "                res = i - first[a] + 1\n",
    "            # 这个判断有点没搞懂哎。。。\n",
    "            # 肯定不可能包括小于的情况，所以需要添加等于的判断\n",
    "            elif count[a] == degree:\n",
    "                res = min(res, i - first[a] + 1)\n",
    "        return res\n",
    "```"
   ]
  }
 ],
 "metadata": {
  "kernelspec": {
   "display_name": "Python 3",
   "language": "python",
   "name": "python3"
  },
  "language_info": {
   "codemirror_mode": {
    "name": "ipython",
    "version": 3
   },
   "file_extension": ".py",
   "mimetype": "text/x-python",
   "name": "python",
   "nbconvert_exporter": "python",
   "pygments_lexer": "ipython3",
   "version": "3.6.4"
  }
 },
 "nbformat": 4,
 "nbformat_minor": 4
}
