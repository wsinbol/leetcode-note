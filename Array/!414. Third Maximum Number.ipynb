{
 "cells": [
  {
   "cell_type": "markdown",
   "metadata": {},
   "source": [
    "# [414. Third Maximum Number](https://leetcode.com/problems/third-maximum-number/)\n",
    "\n",
    "```\n",
    "Given a non-empty array of integers, return the third maximum number in this array. If it does not exist, return the maximum number. The time complexity must be in O(n).\n",
    "```\n",
    "\n",
    "## 1. Amazing Solution:\n",
    "\n",
    "```python\n",
    "class Solution:\n",
    "    def thirdMax(self, nums: List[int]) -> int:\n",
    "        one = two = three = float('-inf')\n",
    "        for i in nums:\n",
    "            if i > one:\n",
    "                one, two, three = i, one, two\n",
    "            elif i > two and i < one:\n",
    "                two, three = i, two\n",
    "            elif i > three and i < two:\n",
    "                three = i\n",
    "        return three if three != float('-inf') else one\n",
    "```"
   ]
  }
 ],
 "metadata": {
  "kernelspec": {
   "display_name": "Python 3",
   "language": "python",
   "name": "python3"
  },
  "language_info": {
   "codemirror_mode": {
    "name": "ipython",
    "version": 3
   },
   "file_extension": ".py",
   "mimetype": "text/x-python",
   "name": "python",
   "nbconvert_exporter": "python",
   "pygments_lexer": "ipython3",
   "version": "3.6.7"
  }
 },
 "nbformat": 4,
 "nbformat_minor": 4
}
