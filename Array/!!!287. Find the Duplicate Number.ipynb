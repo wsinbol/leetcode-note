{
 "cells": [
  {
   "cell_type": "markdown",
   "metadata": {},
   "source": [
    "# [287. Find the Duplicate Number](https://leetcode.com/problems/find-the-duplicate-number/)\n",
    "\n",
    "```\n",
    "Given an array nums containing n + 1 integers where each integer is between 1 and n (inclusive), prove that at least one duplicate number must exist. Assume that there is only one duplicate number, find the duplicate one.\n",
    "```\n",
    "\n",
    "## !important\n",
    "\n",
    "该解法非常巧妙，利用环的特点，要重点把握！\n",
    "\n",
    "```python\n",
    "class Solution:\n",
    "    def findDuplicate(self, nums: List[int]) -> int:\n",
    "        slow = nums[0]\n",
    "        fast = nums[slow]\n",
    "        \n",
    "        while slow != fast:\n",
    "            slow = nums[slow]\n",
    "            fast = nums[nums[fast]]\n",
    "            \n",
    "        fast = 0\n",
    "        while fast != slow:\n",
    "            fast = nums[fast]\n",
    "            slow = nums[slow]\n",
    "            \n",
    "        return slow\n",
    "```"
   ]
  }
 ],
 "metadata": {
  "kernelspec": {
   "display_name": "Python 3",
   "language": "python",
   "name": "python3"
  },
  "language_info": {
   "codemirror_mode": {
    "name": "ipython",
    "version": 3
   },
   "file_extension": ".py",
   "mimetype": "text/x-python",
   "name": "python",
   "nbconvert_exporter": "python",
   "pygments_lexer": "ipython3",
   "version": "3.6.7"
  }
 },
 "nbformat": 4,
 "nbformat_minor": 4
}
