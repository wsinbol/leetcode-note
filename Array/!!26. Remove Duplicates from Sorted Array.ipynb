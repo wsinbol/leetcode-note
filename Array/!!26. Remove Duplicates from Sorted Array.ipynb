{
 "cells": [
  {
   "cell_type": "markdown",
   "metadata": {},
   "source": [
    "# 26. Remove Duplicates from Sorted Array\n",
    "\n",
    "## [26. Remove Duplicates from Sorted Array](https://leetcode.com/problems/remove-duplicates-from-sorted-array/)\n",
    "\n",
    "```\n",
    "Given a sorted array nums, remove the duplicates in-place such that each element appear only once and return the new length.\n",
    "\n",
    "Do not allocate extra space for another array, you must do this by modifying the input array in-place with O(1) extra memory.\n",
    "```\n",
    "\n",
    "## [80. Remove Duplicates from Sorted Array II](https://leetcode.com/problems/remove-duplicates-from-sorted-array-ii/)\n",
    "\n",
    "```\n",
    "Given a sorted array nums, remove the duplicates in-place such that duplicates appeared at most twice and return the new length.\n",
    "\n",
    "Do not allocate extra space for another array, you must do this by modifying the input array in-place with O(1) extra memory.\n",
    "```\n",
    "\n",
    "## 26\n",
    "\n",
    "```python\n",
    "class Solution:\n",
    "    def removeDuplicates(self, nums: List[int]) -> int:\n",
    "        slow = 0\n",
    "        fast = 1\n",
    "        while fast < len(nums):\n",
    "            if nums[fast] != nums[slow]:\n",
    "                slow += 1\n",
    "                nums[slow] = nums[fast]\n",
    "            fast += 1\n",
    "                \n",
    "        return slow+1\n",
    "```\n",
    "\n",
    "```python\n",
    "class Solution:\n",
    "    def removeDuplicates(self, nums: List[int]) -> int:\n",
    "        i = 0\n",
    "        for n in nums:\n",
    "            if i < 1 or n > nums[i-1]:\n",
    "                nums[i] = n\n",
    "                i += 1\n",
    "        return i\n",
    "```\n",
    "\n",
    "## 80\n",
    "\n",
    "```python\n",
    "class Solution:\n",
    "    def removeDuplicates(self, nums: List[int]) -> int:\n",
    "        i = 0\n",
    "        for n in nums:\n",
    "            if i < 2 or n > nums[i-2]:\n",
    "                nums[i] = n\n",
    "                i += 1\n",
    "        return i\n",
    "```"
   ]
  },
  {
   "cell_type": "code",
   "execution_count": null,
   "metadata": {},
   "outputs": [],
   "source": []
  }
 ],
 "metadata": {
  "kernelspec": {
   "display_name": "Python 3",
   "language": "python",
   "name": "python3"
  },
  "language_info": {
   "codemirror_mode": {
    "name": "ipython",
    "version": 3
   },
   "file_extension": ".py",
   "mimetype": "text/x-python",
   "name": "python",
   "nbconvert_exporter": "python",
   "pygments_lexer": "ipython3",
   "version": "3.6.4"
  }
 },
 "nbformat": 4,
 "nbformat_minor": 4
}
