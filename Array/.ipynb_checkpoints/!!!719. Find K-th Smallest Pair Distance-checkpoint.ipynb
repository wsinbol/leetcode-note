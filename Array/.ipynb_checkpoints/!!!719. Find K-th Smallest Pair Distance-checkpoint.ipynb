{
 "cells": [
  {
   "cell_type": "markdown",
   "metadata": {},
   "source": [
    "# [719. Find K-th Smallest Pair Distance](https://leetcode.com/problems/find-k-th-smallest-pair-distance/)\n",
    "\n",
    "Given an integer array, return the k-th smallest distance among all the pairs. The distance of a pair (A, B) is defined as the absolute difference between A and B.\n",
    "\n",
    "首先需要对数组排序，这样能很快找出最大距离对，也就是nums[len-1]-nums[0]，然后我们知道第k小的距离对一定会在最大和最小距离对之间，一般这种范围查找用到的就是二分查找，核心是中间那一段for循环代码，mid指的是中间的距离对的长度，left和right分别是nums上的左右指针，通过while循环来将所有<=mid的距离对的个数算出来，并加到count中，如果count>=k，那么right=mid，如果count<k，那么left=mid+1；这里是二分查找的常规模板（因为计算mid时除以2是向下取整的，所以count<k时，目标值一定在mid右边，反之count>=k，可能目标值就是mid或者在左边；如果对这点始终有疑问，可以去看看探索里的二分查找模板~）\n",
    "\n",
    "```python\n",
    "class Solution:\n",
    "    def smallestDistancePair(self, nums: List[int], k: int) -> int:\n",
    "        nums.sort()\n",
    "        len_num = len(nums)\n",
    "        low = 0\n",
    "        high = nums[len_num-1]-nums[0]\n",
    "        \n",
    "        while low < high:\n",
    "            mid = low + (high-low)//2\n",
    "            count = 0\n",
    "            left = 0\n",
    "            for right in range(len_num):\n",
    "                while nums[right]-nums[left]>mid:\n",
    "                    left += 1\n",
    "                count += right - left\n",
    "            if count >= k:\n",
    "                high = mid\n",
    "            else:\n",
    "                low = mid + 1\n",
    "                \n",
    "        return low\n",
    "```\n",
    "\n",
    "下面解法的解释 https://leetcode.com/problems/find-k-th-smallest-pair-distance/discuss/769705/Python-Clear-explanation-Powerful-Ultimate-Binary-Search-Template.-Solved-many-problems.\n",
    "\n",
    "```python\n",
    "class Solution:\n",
    "    def smallestDistancePair(self, nums: List[int], k: int) -> int:\n",
    "        \n",
    "        def enough(distance) -> bool:  # two pointers\n",
    "            count, i, j = 0, 0, 0\n",
    "            while i < n or j < n:\n",
    "                while j < n and nums[j] - nums[i] <= distance:\n",
    "                    j += 1\n",
    "                count += j - i - 1\n",
    "                i += 1\n",
    "            return count >= k\n",
    "\n",
    "        nums.sort()\n",
    "        n = len(nums)\n",
    "        left, right = 0, nums[-1] - nums[0]\n",
    "        \n",
    "        while left < right:\n",
    "            mid = left + (right - left) // 2\n",
    "            if not enough(mid):\n",
    "                left = mid + 1\n",
    "            else:\n",
    "                right = mid\n",
    "        return left\n",
    "```"
   ]
  }
 ],
 "metadata": {
  "kernelspec": {
   "display_name": "Python 3",
   "language": "python",
   "name": "python3"
  },
  "language_info": {
   "codemirror_mode": {
    "name": "ipython",
    "version": 3
   },
   "file_extension": ".py",
   "mimetype": "text/x-python",
   "name": "python",
   "nbconvert_exporter": "python",
   "pygments_lexer": "ipython3",
   "version": "3.6.4"
  }
 },
 "nbformat": 4,
 "nbformat_minor": 4
}
