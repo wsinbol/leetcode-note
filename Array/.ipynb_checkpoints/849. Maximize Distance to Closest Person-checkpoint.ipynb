{
 "cells": [
  {
   "cell_type": "markdown",
   "metadata": {},
   "source": [
    "# [849. Maximize Distance to Closest Person](https://leetcode.com/problems/maximize-distance-to-closest-person/)\n",
    "\n",
    "```\n",
    "You are given an array representing a row of seats where seats[i] = 1 represents a person sitting in the ith seat, and seats[i] = 0 represents that the ith seat is empty (0-indexed).\n",
    "\n",
    "There is at least one empty seat, and at least one person sitting.\n",
    "\n",
    "Alex wants to sit in the seat such that the distance between him and the closest person to him is maximized. \n",
    "\n",
    "Return that maximum distance to the closest person.\n",
    "```\n",
    "\n",
    "## Solution:\n",
    "\n",
    "题目很容易理解，找到一个位置，使得距离他最近的人距离最远！抛开极端情况（即：他是最左边的第一个或是最右边的最后一个），我们需要兼顾他左手边或者右手边的人的位置。\n",
    "\n",
    "#1. 首先想到的是用两个指针，从当前位置出发，分别向左和向右移动，遍历完整个数组后，就可以找出最大的距离。\n",
    "\n",
    "#2. 此方法是#1的变形，利用 中间位置 来确定距离（因为左边和右边的距离是相等或者差1的），这样只用一个指针就可以了，而且比#1更高效！\n",
    "\n",
    "```python\n",
    "class Solution:\n",
    "    def maxDistToClosest(self, seats: List[int]) -> int:\n",
    "        res, last, n = 0, -1, len(seats)\n",
    "        for i in range(n):\n",
    "            if seats[i]:\n",
    "                res = max(res, i if last < 0 else (i - last) // 2)\n",
    "                last = i\n",
    "                       # 处理右边有很多连续0的情况\n",
    "        return max(res, n - last - 1)\n",
    "```"
   ]
  }
 ],
 "metadata": {
  "kernelspec": {
   "display_name": "Python 3",
   "language": "python",
   "name": "python3"
  },
  "language_info": {
   "codemirror_mode": {
    "name": "ipython",
    "version": 3
   },
   "file_extension": ".py",
   "mimetype": "text/x-python",
   "name": "python",
   "nbconvert_exporter": "python",
   "pygments_lexer": "ipython3",
   "version": "3.6.4"
  }
 },
 "nbformat": 4,
 "nbformat_minor": 4
}
