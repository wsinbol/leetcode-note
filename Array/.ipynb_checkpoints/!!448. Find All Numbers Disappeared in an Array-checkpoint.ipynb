{
 "cells": [
  {
   "cell_type": "markdown",
   "metadata": {},
   "source": [
    "# [448. Find All Numbers Disappeared in an Array](https://leetcode.com/problems/find-all-numbers-disappeared-in-an-array/)\n",
    "\n",
    "Given an array of integers where 1 ≤ a[i] ≤ n (n = size of array), some elements appear twice and others appear once.\n",
    "\n",
    "Find all the elements of [1, n] inclusive that do not appear in this array.\n",
    "\n",
    "Could you do it without extra space and in O(n) runtime? You may assume the returned list does not count as extra space.\n",
    "\n",
    "## Wrong solution:\n",
    "\n",
    "```python\n",
    "class Solution:\n",
    "    def findDisappearedNumbers(self, nums: List[int]) -> List[int]:\n",
    "        res = []\n",
    "        for i,v in enumerate(nums):\n",
    "            if nums[abs(v)-1] < 0:\n",
    "                res.append(i)\n",
    "            else:\n",
    "                nums[abs(v)-1] *= -1\n",
    "        return res\n",
    "```\n",
    "\n",
    "\n",
    "## Right solution:\n",
    "\n",
    "```python\n",
    "class Solution:\n",
    "    def findDisappearedNumbers(self, nums: List[int]) -> List[int]:\n",
    "        for i in range(len(nums)):\n",
    "            index = abs(nums[i]) - 1\n",
    "            nums[index] = - abs(nums[index])\n",
    "        print(nums)\n",
    "        return [i + 1 for i in range(len(nums)) if nums[i] > 0]\n",
    "```"
   ]
  }
 ],
 "metadata": {
  "kernelspec": {
   "display_name": "Python 3",
   "language": "python",
   "name": "python3"
  },
  "language_info": {
   "codemirror_mode": {
    "name": "ipython",
    "version": 3
   },
   "file_extension": ".py",
   "mimetype": "text/x-python",
   "name": "python",
   "nbconvert_exporter": "python",
   "pygments_lexer": "ipython3",
   "version": "3.6.7"
  }
 },
 "nbformat": 4,
 "nbformat_minor": 4
}
