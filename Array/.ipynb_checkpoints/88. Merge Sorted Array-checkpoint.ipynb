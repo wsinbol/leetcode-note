{
 "cells": [
  {
   "cell_type": "markdown",
   "metadata": {},
   "source": [
    "# [88. Merge Sorted Array](https://leetcode.com/problems/merge-sorted-array/)\n",
    "\n",
    "Given two sorted integer arrays nums1 and nums2, merge nums2 into nums1 as one sorted array.\n",
    "\n",
    "Note:\n",
    "\n",
    "- The number of elements initialized in nums1 and nums2 are m and n respectively.\n",
    "- You may assume that nums1 has enough space (size that is equal to m + n) to hold additional elements from nums2.\n",
    "\n",
    "## 思路版\n",
    "\n",
    "首先想到的就是双指针分别遍历 nums1 和 nums2，然后逐个对比每个值的大小，然后挨个排序就可以了。如果从前往后操作，不申请额外的空间的话就只能挨个将 nums1 的元素进行后移。而且题目中已经将 nums1 的空间给够了！所以从前往后的操作绝对是不可取的！\n",
    "\n",
    "那么为什么不从后向前进行操作呢？同样是需要两个指针啊！\n",
    "\n",
    "```python\n",
    "class Solution:\n",
    "    def merge(self, nums1: List[int], m: int, nums2: List[int], n: int) -> None:\n",
    "        \"\"\"\n",
    "        Do not return anything, modify nums1 in-place instead.\n",
    "        \"\"\"\n",
    "        while m > 0 and n > 0:\n",
    "            if nums1[m-1] >= nums2[n-1]:\n",
    "                nums1[m+n-1] = nums1[m-1]\n",
    "                m -= 1\n",
    "            else:\n",
    "                nums1[m+n-1] = nums2[n-1]\n",
    "                n -= 1\n",
    "        '''\n",
    "        需要注意的是当不满足 while m > 0 and n > 0时，究竟是 m 还有剩余还是 n 还有剩余呢？\n",
    "        '''\n",
    "        if n > 0:\n",
    "            nums1[:n] = nums2[:n]\n",
    "        \n",
    "        '''\n",
    "        上述代码只处理了 n 有剩余的情况，为什么没有处理 m 有剩余的情况呢？\n",
    "        因为本身就是在 nums1 的数据上进行处理的，故不需要再额外写一句！\n",
    "        '''\n",
    "```\n",
    "\n"
   ]
  }
 ],
 "metadata": {
  "kernelspec": {
   "display_name": "Python 3",
   "language": "python",
   "name": "python3"
  },
  "language_info": {
   "codemirror_mode": {
    "name": "ipython",
    "version": 3
   },
   "file_extension": ".py",
   "mimetype": "text/x-python",
   "name": "python",
   "nbconvert_exporter": "python",
   "pygments_lexer": "ipython3",
   "version": "3.6.7"
  }
 },
 "nbformat": 4,
 "nbformat_minor": 4
}
