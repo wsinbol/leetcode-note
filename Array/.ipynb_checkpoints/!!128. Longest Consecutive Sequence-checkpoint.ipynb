{
 "cells": [
  {
   "cell_type": "markdown",
   "metadata": {},
   "source": [
    "# [128. Longest Consecutive Sequence](https://leetcode.com/problems/longest-consecutive-sequence/)\n",
    "\n",
    "Given an unsorted array of integers, find the length of the longest consecutive elements sequence.\n",
    "\n",
    "Your algorithm should run in O(n) complexity.\n",
    "\n",
    "```python\n",
    "class Solution:\n",
    "    def longestConsecutive(self, nums: List[int]) -> int:\n",
    "        if not nums:\n",
    "            return 0\n",
    "        nums.sort()\n",
    "        cur_len = 1\n",
    "        max_len = 1\n",
    "        for i in range(1, len(nums)):\n",
    "            if nums[i] != nums[i-1]:\n",
    "                if nums[i] - nums[i-1] == 1:\n",
    "                    cur_len += 1\n",
    "                else:\n",
    "                    max_len = max(max_len, cur_len)\n",
    "                    cur_len = 1\n",
    "        return max(max_len,cur_len)\n",
    "            \n",
    "            \n",
    "```\n",
    "\n",
    "## Unbelievable\n",
    "\n",
    "Whenever a new element n is inserted into the map, do two things:\n",
    "\n",
    "1. See if n - 1 and n + 1 exist in the map, and if so, it means there is an existing sequence next to n. Variables left and right will be the length of those two sequences, while 0 means there is no sequence and n will be the boundary point later. Store (left + right + 1) as the associated value to key n into the map.\n",
    "2. Use left and right to locate the other end of the sequences to the left and right of n respectively, and replace the value with the new length.\n",
    "\n",
    "```python\n",
    "class Solution:\n",
    "    def longestConsecutive(self, nums: List[int]) -> int:\n",
    "        res, dic=0, {}\n",
    "        for n in nums:\n",
    "            if n not in dic:\n",
    "                left=dic.get(n-1, 0)\n",
    "                right=dic.get(n+1, 0)\n",
    "                leng=left+right+1\n",
    "                dic[n]=leng\n",
    "                res=max(res, leng)\n",
    "                dic[n-left]=leng\n",
    "                dic[n+right]=leng\n",
    "        return res\n",
    "```"
   ]
  }
 ],
 "metadata": {
  "kernelspec": {
   "display_name": "Python 3",
   "language": "python",
   "name": "python3"
  },
  "language_info": {
   "codemirror_mode": {
    "name": "ipython",
    "version": 3
   },
   "file_extension": ".py",
   "mimetype": "text/x-python",
   "name": "python",
   "nbconvert_exporter": "python",
   "pygments_lexer": "ipython3",
   "version": "3.6.4"
  }
 },
 "nbformat": 4,
 "nbformat_minor": 4
}
