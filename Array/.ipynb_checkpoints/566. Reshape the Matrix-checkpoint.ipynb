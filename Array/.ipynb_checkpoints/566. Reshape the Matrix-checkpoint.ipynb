{
 "cells": [
  {
   "cell_type": "markdown",
   "metadata": {},
   "source": [
    "# [566. Reshape the Matrix](https://leetcode.com/problems/reshape-the-matrix/)\n",
    "\n",
    "In MATLAB, there is a very useful function called 'reshape', which can reshape a matrix into a new one with different size but keep its original data.\n",
    "\n",
    "You're given a matrix represented by a two-dimensional array, and two positive integers r and c representing the row number and column number of the wanted reshaped matrix, respectively.\n",
    "\n",
    "The reshaped matrix need to be filled with all the elements of the original matrix in the same row-traversing order as they were.\n",
    "\n",
    "If the 'reshape' operation with given parameters is possible and legal, output the new reshaped matrix; Otherwise, output the original matrix.\n",
    "\n",
    "## Idea\n",
    "\n",
    "遇到这种矩阵变换的优先考虑索引的整除 or 地板除。\n",
    "\n",
    "We can use matrix[index / width][index % width] for both the input and the output matrix.\n",
    "\n",
    "```python\n",
    "class Solution:\n",
    "    def matrixReshape(self, nums: List[List[int]], r: int, c: int) -> List[List[int]]:\n",
    "        m = len(nums)\n",
    "        n = len(nums[0])\n",
    "        \n",
    "        if m * n != r * c:\n",
    "            return nums\n",
    "        \n",
    "        matrix = [[0 for _ in range(c)] for _ in range(r)]\n",
    "        for i in range(r * c):\n",
    "            matrix[i//c][i%c] = nums[i//n][i%n]\n",
    "        return matrix\n",
    "```"
   ]
  }
 ],
 "metadata": {
  "kernelspec": {
   "display_name": "Python 3",
   "language": "python",
   "name": "python3"
  },
  "language_info": {
   "codemirror_mode": {
    "name": "ipython",
    "version": 3
   },
   "file_extension": ".py",
   "mimetype": "text/x-python",
   "name": "python",
   "nbconvert_exporter": "python",
   "pygments_lexer": "ipython3",
   "version": "3.6.4"
  }
 },
 "nbformat": 4,
 "nbformat_minor": 4
}
