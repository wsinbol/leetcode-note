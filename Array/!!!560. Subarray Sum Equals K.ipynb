{
 "cells": [
  {
   "cell_type": "markdown",
   "metadata": {},
   "source": [
    "# [560. Subarray Sum Equals K](https://leetcode.com/problems/subarray-sum-equals-k/)\n",
    "\n",
    "Given an array of integers and an integer k, you need to find the total number of continuous subarrays whose sum equals to k.\n",
    "\n",
    "## 前缀和\n",
    "\n",
    "```python\n",
    "class Solution:\n",
    "    def subarraySum(self, nums: List[int], k: int) -> int:\n",
    "        pre_sum = [0] * (len(nums) + 1)\n",
    "        for i in range(len(nums)):\n",
    "            pre_sum[i+1] = pre_sum[i] + nums[i]\n",
    "        \n",
    "        count = 0\n",
    "        for i in range(len(pre_sum)):\n",
    "            for j in range(i+1, len(pre_sum)):\n",
    "                if pre_sum[j] - pre_sum[i] == k:\n",
    "                    count += 1\n",
    "                    \n",
    "        return count\n",
    "```\n",
    "\n",
    "\n",
    "> 第二层 for 循环在干嘛呢？翻译一下就是，在计算，有几个 j 能够使得 sum[i] 和 sum[j] 的差为 k。毎找到一个这样的 j，就把结果加一。\n",
    "\n",
    "\n",
    "\n",
    "## 前缀和的优化\n",
    "\n",
    "```python\n",
    "class Solution:\n",
    "    def subarraySum(self, nums: List[int], k: int) -> int: \n",
    "        '''\n",
    "        pre_sum 的 base case 是何含义？\n",
    "        前缀和为0的时候\n",
    "        '''\n",
    "        pre_sum = {0: 1}\n",
    "        sums, count = 0, 0\n",
    "        for v in nums:\n",
    "            sums += v\n",
    "            count += pre_sum.get(sums - k, 0)\n",
    "            pre_sum[sums] = pre_sum.get(sums, 0) + 1\n",
    "        return count\n",
    "```"
   ]
  }
 ],
 "metadata": {
  "kernelspec": {
   "display_name": "Python 3",
   "language": "python",
   "name": "python3"
  },
  "language_info": {
   "codemirror_mode": {
    "name": "ipython",
    "version": 3
   },
   "file_extension": ".py",
   "mimetype": "text/x-python",
   "name": "python",
   "nbconvert_exporter": "python",
   "pygments_lexer": "ipython3",
   "version": "3.6.4"
  }
 },
 "nbformat": 4,
 "nbformat_minor": 4
}
