{
 "cells": [
  {
   "cell_type": "markdown",
   "metadata": {},
   "source": [
    "# 792. Number of Matching Subsequences\n",
    "\n",
    "```\n",
    "Given string S and a dictionary of words words, find the number of words[i] that is a subsequence of S.\n",
    "```\n",
    "\n",
    "## Niubility\n",
    "\n",
    "Please read by your Heart!!!https://leetcode.com/problems/number-of-matching-subsequences/discuss/117634/Efficient-and-simple-go-through-words-in-parallel-with-explanation\n",
    "\n",
    "The solution is very nice!!! And hard to think it out.\n",
    "\n",
    "```python\n",
    "class Solution:\n",
    "    def numMatchingSubseq(self, S: str, words: List[str]) -> int:\n",
    "        waiting = collections.defaultdict(list)\n",
    "        for it in map(iter, words):\n",
    "            waiting[next(it)].append(it)\n",
    "        for c in S:\n",
    "            for it in waiting.pop(c, ()):\n",
    "                waiting[next(it, None)].append(it)\n",
    "        return len(waiting[None])\n",
    "```"
   ]
  }
 ],
 "metadata": {
  "kernelspec": {
   "display_name": "Python 3",
   "language": "python",
   "name": "python3"
  },
  "language_info": {
   "codemirror_mode": {
    "name": "ipython",
    "version": 3
   },
   "file_extension": ".py",
   "mimetype": "text/x-python",
   "name": "python",
   "nbconvert_exporter": "python",
   "pygments_lexer": "ipython3",
   "version": "3.6.4"
  }
 },
 "nbformat": 4,
 "nbformat_minor": 4
}
