{
 "cells": [
  {
   "cell_type": "markdown",
   "metadata": {},
   "source": [
    "# [713. Subarray Product Less Than K](https://leetcode.com/problems/subarray-product-less-than-k/)\n",
    "\n",
    "Your are given an array of positive integers nums.\n",
    "\n",
    "Count and print the number of (contiguous) subarrays where the product of all the elements in the subarray is less than k.\n",
    "\n",
    "```python\n",
    "class Solution:\n",
    "    def numSubarrayProductLessThanK(self, nums: List[int], k: int) -> int:\n",
    "        left, product, count = 0, 1, 0\n",
    "        for right in range(len(nums)):\n",
    "            product *= nums[right]\n",
    "            \n",
    "            while product >= k and left <= right:\n",
    "                product /= nums[left]\n",
    "                left += 1\n",
    "                \n",
    "            count += right - left + 1\n",
    "        return count\n",
    "```"
   ]
  }
 ],
 "metadata": {
  "kernelspec": {
   "display_name": "Python 3",
   "language": "python",
   "name": "python3"
  },
  "language_info": {
   "name": ""
  }
 },
 "nbformat": 4,
 "nbformat_minor": 4
}
