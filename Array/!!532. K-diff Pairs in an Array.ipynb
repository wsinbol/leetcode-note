{
 "cells": [
  {
   "cell_type": "markdown",
   "metadata": {},
   "source": [
    "# [532. K-diff Pairs in an Array](https://leetcode.com/problems/k-diff-pairs-in-an-array/)\n",
    "\n",
    "```\n",
    "Given an array of integers and an integer k, you need to find the number of unique k-diff pairs in the array. Here a k-diff pair is defined as an integer pair (i, j), where i and j are both numbers in the array and their absolute difference is k.\n",
    "\n",
    "Input: [3, 1, 4, 1, 5], k = 2\n",
    "Output: 2\n",
    "Explanation: There are two 2-diff pairs in the array, (1, 3) and (3, 5).\n",
    "Although we have two 1s in the input, we should only return the number of unique pairs.\n",
    "\n",
    "Input:[1, 2, 3, 4, 5], k = 1\n",
    "Output: 4\n",
    "Explanation: There are four 1-diff pairs in the array, (1, 2), (2, 3), (3, 4) and (4, 5).\n",
    "```\n",
    "\n",
    "## Niubility\n",
    "\n",
    "```python\n",
    "class Solution:\n",
    "    def findPairs(self, nums: List[int], k: int) -> int:\n",
    "        res = []\n",
    "        for i in range(len(nums)-1):\n",
    "            for j in range(i+1, len(nums)):\n",
    "                if abs(nums[i]-nums[j]) == k:\n",
    "                    res.append((nums[j], nums[i]))\n",
    "```\n",
    "\n",
    "上面是我第一版的想法，事件复杂度为O(N)，根据题目给的数据范围，可以预料最终的结果是Time limit exceed!\n",
    "\n",
    "其实，有两点可以表明不需要双层遍历来完成该题目：\n",
    "1. 要求的是总共的数字对个数，而不是具体的数字对\n",
    "2. 不可以出现重复的数字对，这样就不需要一个一个的遍历，而只统计出现的个数就行判断就可以了！\n",
    "\n",
    "```python\n",
    "class Solution:\n",
    "    def findPairs(self, nums: List[int], k: int) -> int:\n",
    "        res = 0\n",
    "        c = collections.Counter(nums)\n",
    "        for i in c:\n",
    "            if k > 0 and i + k in c or k == 0 and c[i] > 1:\n",
    "                res += 1\n",
    "        return res\n",
    "```\n"
   ]
  }
 ],
 "metadata": {
  "kernelspec": {
   "display_name": "Python 3",
   "language": "python",
   "name": "python3"
  },
  "language_info": {
   "codemirror_mode": {
    "name": "ipython",
    "version": 3
   },
   "file_extension": ".py",
   "mimetype": "text/x-python",
   "name": "python",
   "nbconvert_exporter": "python",
   "pygments_lexer": "ipython3",
   "version": "3.6.4"
  }
 },
 "nbformat": 4,
 "nbformat_minor": 4
}
