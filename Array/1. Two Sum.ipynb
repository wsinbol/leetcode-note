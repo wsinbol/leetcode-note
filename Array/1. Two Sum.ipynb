{
 "cells": [
  {
   "cell_type": "markdown",
   "metadata": {},
   "source": [
    "# [1. Two Sum](https://leetcode.com/problems/two-sum/)\n",
    "\n",
    "Given an array of integers, return indices of the two numbers such that they add up to a specific target.\n",
    "\n",
    "You may assume that each input would have exactly one solution, and you may not use the same element twice.\n",
    "\n",
    "## DIY\n",
    "\n",
    "```python\n",
    "class Solution:\n",
    "    def twoSum(self, nums: List[int], target: int) -> List[int]:\n",
    "        d = {}\n",
    "        for k,v in enumerate(nums):\n",
    "            d[v]=k\n",
    "            \n",
    "        d = {v:k for k,v in enumerate(nums)}\n",
    "        \n",
    "        for idx,val in enumerate(nums):\n",
    "            if target-val in d and d[target-val] != idx:\n",
    "                return [idx, d[target-val]]\n",
    "```\n",
    "\n",
    "## 大神版 - 一次循环搞定！\n",
    "\n",
    "```python\n",
    "class Solution:\n",
    "    def twoSum(self, nums: List[int], target: int) -> List[int]:\n",
    "        d = {}\n",
    "        for k,v in enumerate(nums):\n",
    "            if target-v in d:\n",
    "                return [k,d[target-v]]\n",
    "            else:\n",
    "                d[v] = k\n",
    "```"
   ]
  }
 ],
 "metadata": {
  "kernelspec": {
   "display_name": "Python 3",
   "language": "python",
   "name": "python3"
  },
  "language_info": {
   "codemirror_mode": {
    "name": "ipython",
    "version": 3
   },
   "file_extension": ".py",
   "mimetype": "text/x-python",
   "name": "python",
   "nbconvert_exporter": "python",
   "pygments_lexer": "ipython3",
   "version": "3.6.4"
  }
 },
 "nbformat": 4,
 "nbformat_minor": 4
}
