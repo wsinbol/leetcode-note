{
 "cells": [
  {
   "cell_type": "markdown",
   "metadata": {},
   "source": [
    "# Hard to understand\n",
    "\n",
    "## 665\n",
    "\n",
    "## 667\n",
    "\n",
    "For the first k elements, we arrange in the following way:\n",
    "    1, k + 1, 2, k, 3, k - 1, ....\n",
    "For the remaining elements, we set a[i] = i + 1, for i = k + 1, ....,n\n",
    "\n",
    "```java\n",
    "class Solution {\n",
    "    public int[] constructArray(int n, int k) {\n",
    "        int[] res = new int[n];\n",
    "        for(int i = 0; i < k + 1; ++i) {\n",
    "            res[i] = (i % 2 == 0) ? i / 2 + 1 : k + 1 - (i - 1) / 2;\n",
    "        }\n",
    "        for(int i = k + 1; i < n; ++i) {\n",
    "            res[i] = i + 1;\n",
    "        }\n",
    "        return res;    \n",
    "    }\n",
    "}\n",
    "```"
   ]
  },
  {
   "cell_type": "code",
   "execution_count": null,
   "metadata": {},
   "outputs": [],
   "source": []
  }
 ],
 "metadata": {
  "kernelspec": {
   "display_name": "Python 3",
   "language": "python",
   "name": "python3"
  },
  "language_info": {
   "codemirror_mode": {
    "name": "ipython",
    "version": 3
   },
   "file_extension": ".py",
   "mimetype": "text/x-python",
   "name": "python",
   "nbconvert_exporter": "python",
   "pygments_lexer": "ipython3",
   "version": "3.6.4"
  }
 },
 "nbformat": 4,
 "nbformat_minor": 4
}
