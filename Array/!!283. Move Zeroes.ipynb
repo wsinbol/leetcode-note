{
 "cells": [
  {
   "cell_type": "markdown",
   "metadata": {},
   "source": [
    "# [283. Move Zeroes](https://leetcode.com/problems/move-zeroes/)\n",
    "\n",
    "Given an array nums, write a function to move all 0's to the end of it while maintaining the relative order of the non-zero elements.\n",
    "\n",
    "## My idea\n",
    "\n",
    "F**k, I thought a long time about the problem, and found nothing...At the beginning, I want to deal with the problem using two-pointers, reverse the order of the element while making '0' at the end of the list.\n",
    "\n",
    "this is my code and wrong answer:\n",
    "\n",
    "```python\n",
    "class Solution:\n",
    "    def moveZeroes(self, nums: List[int]) -> None:\n",
    "        \"\"\"\n",
    "        Do not return anything, modify nums in-place instead.\n",
    "        \"\"\"\n",
    "        left, right = 0, len(nums)-1\n",
    "        \n",
    "        while left < right:\n",
    "            while nums[right] == 0:\n",
    "                right -= 1\n",
    "                \n",
    "            nums[left], nums[right] = nums[right], nums[left]\n",
    "            left += 1\n",
    "            \n",
    "        self.reverse(nums, 0, left-1)\n",
    "            \n",
    "    def reverse(self, nums, start, end):\n",
    "        nums[start], nums[end] = nums[end], nums[start]\n",
    "```\n",
    "\n",
    "## correct answer:\n",
    "\n",
    "```python\n",
    "class Solution:\n",
    "    def moveZeroes(self, nums: List[int]) -> None:\n",
    "        \"\"\"\n",
    "        Do not return anything, modify nums in-place instead.\n",
    "        \"\"\"\n",
    "        zero = 0  # records the position of \"0\"\n",
    "        for i in range(len(nums)):\n",
    "            if nums[i] != 0:\n",
    "                nums[i], nums[zero] = nums[zero], nums[i]\n",
    "                zero += 1\n",
    "```"
   ]
  }
 ],
 "metadata": {
  "kernelspec": {
   "display_name": "Python 3",
   "language": "python",
   "name": "python3"
  },
  "language_info": {
   "codemirror_mode": {
    "name": "ipython",
    "version": 3
   },
   "file_extension": ".py",
   "mimetype": "text/x-python",
   "name": "python",
   "nbconvert_exporter": "python",
   "pygments_lexer": "ipython3",
   "version": "3.6.7"
  }
 },
 "nbformat": 4,
 "nbformat_minor": 4
}
