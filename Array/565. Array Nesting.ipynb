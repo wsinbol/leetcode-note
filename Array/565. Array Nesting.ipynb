{
 "cells": [
  {
   "cell_type": "markdown",
   "metadata": {},
   "source": [
    "# [565. Array Nesting](https://leetcode.com/problems/array-nesting/)\n",
    "\n",
    "```\n",
    "A zero-indexed array A of length N contains all integers from 0 to N-1. Find and return the longest length of set S, where S[i] = {A[i], A[A[i]], A[A[A[i]]], ... } subjected to the rule below.\n",
    "\n",
    "Suppose the first element in S starts with the selection of element A[i] of index = i, the next element in S should be A[A[i]], and then A[A[A[i]]]… By that analogy, we stop adding right before a duplicate element occurs in S.\n",
    "\n",
    "Input: A = [5,4,0,3,1,6,2]\n",
    "Output: 4\n",
    "Explanation: \n",
    "A[0] = 5, A[1] = 4, A[2] = 0, A[3] = 3, A[4] = 1, A[5] = 6, A[6] = 2.\n",
    "\n",
    "One of the longest S[K]:\n",
    "S[0] = {A[0], A[5], A[6], A[2]} = {5, 6, 2, 0}\n",
    "```\n",
    "\n",
    "## DIY\n",
    "\n",
    "该题的实质是找最长环！\n",
    "\n",
    "TLE...看了下正确答案，只不过少写了一个字典的遍历，竟然执行超时！\n",
    "\n",
    "```\n",
    "class Solution:\n",
    "    def arrayNesting(self, nums: List[int]) -> int:\n",
    "        if not nums:\n",
    "            return 0\n",
    "        d = {}\n",
    "        for i,v in enumerate(nums):\n",
    "            d[i] = v\n",
    "        \n",
    "        max_len = 1\n",
    "        for k,v in d.items():\n",
    "            visited = {k}\n",
    "            while v not in visited:\n",
    "                visited.add(v)\n",
    "                v = d[v]\n",
    "                max_len = max(max_len, len(visited))\n",
    "        return max_len\n",
    "```\n",
    "\n",
    "## Right\n",
    "\n",
    "```python\n",
    "class Solution:\n",
    "    def arrayNesting(self, nums: List[int]) -> int:\n",
    "        seen, res = [0] * len(nums), 0\n",
    "        for i in nums:\n",
    "            count, j = 0, i\n",
    "            while not seen[j]:\n",
    "                seen[j], count, j = 1, count + 1, nums[j]\n",
    "            res = max(res, count)\n",
    "        return res\n",
    "                \n",
    "```"
   ]
  }
 ],
 "metadata": {
  "kernelspec": {
   "display_name": "Python 3",
   "language": "python",
   "name": "python3"
  },
  "language_info": {
   "codemirror_mode": {
    "name": "ipython",
    "version": 3
   },
   "file_extension": ".py",
   "mimetype": "text/x-python",
   "name": "python",
   "nbconvert_exporter": "python",
   "pygments_lexer": "ipython3",
   "version": "3.6.4"
  }
 },
 "nbformat": 4,
 "nbformat_minor": 4
}
