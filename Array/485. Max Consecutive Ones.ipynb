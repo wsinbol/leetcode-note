{
 "cells": [
  {
   "cell_type": "markdown",
   "metadata": {},
   "source": [
    "# [485. Max Consecutive Ones](https://leetcode.com/problems/max-consecutive-ones/)\n",
    "\n",
    "> Given a binary array, find the maximum number of consecutive 1s in this array.\n",
    "\n",
    "## DIY\n",
    "\n",
    "```python\n",
    "class Solution:\n",
    "    def findMaxConsecutiveOnes(self, nums: List[int]) -> int:\n",
    "        max_len = float('-inf')\n",
    "        start = -1\n",
    "        for i, n in enumerate(nums):\n",
    "            if n != 1:\n",
    "                start = i\n",
    "            # max_len = max(max_len, i-start)\n",
    "            if i-start > max_len:\n",
    "                max_len = i-start\n",
    "                \n",
    "        return max_len\n",
    "    \n",
    "    \n",
    "class Solution(object):\n",
    "    def findMaxConsecutiveOnes(self, nums):\n",
    "        cnt = 0\n",
    "        ans = 0\n",
    "        for num in nums:\n",
    "            if num == 1:\n",
    "                cnt += 1\n",
    "                ans = max(ans, cnt)\n",
    "            else:\n",
    "                cnt = 0\n",
    "        return ans\n",
    "    \n",
    "    \n",
    "class Solution:\n",
    "    def findMaxConsecutiveOnes(self, nums: List[int]) -> int:\n",
    "        num_str = ''.join(map(str,nums))\n",
    "        num_list = num_str.split('0')\n",
    "\n",
    "        return len(max(num_list))\n",
    "```\n"
   ]
  }
 ],
 "metadata": {
  "kernelspec": {
   "display_name": "Python 3",
   "language": "python",
   "name": "python3"
  },
  "language_info": {
   "codemirror_mode": {
    "name": "ipython",
    "version": 3
   },
   "file_extension": ".py",
   "mimetype": "text/x-python",
   "name": "python",
   "nbconvert_exporter": "python",
   "pygments_lexer": "ipython3",
   "version": "3.6.7"
  }
 },
 "nbformat": 4,
 "nbformat_minor": 4
}
