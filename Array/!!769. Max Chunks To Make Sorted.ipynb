{
 "cells": [
  {
   "cell_type": "markdown",
   "metadata": {},
   "source": [
    "# [769. Max Chunks To Make Sorted](https://leetcode.com/problems/max-chunks-to-make-sorted/)\n",
    "\n",
    "Given an array arr that is a permutation of [0, 1, ..., arr.length - 1], we split the array into some number of \"chunks\" (partitions), and individually sort each chunk.  After concatenating them, the result equals the sorted array.\n",
    "\n",
    "What is the most number of chunks we could have made?\n",
    "\n",
    "```\n",
    "Input: arr = [4,3,2,1,0]\n",
    "Output: 1\n",
    "Explanation:\n",
    "Splitting into two or more chunks will not return the required result.\n",
    "For example, splitting into [4, 3], [2, 1, 0] will result in [3, 4, 0, 1, 2], which isn't sorted.\n",
    "```\n",
    "\n",
    "## High Vote\n",
    "\n",
    "Aftering seeing the answer, I realized that the code is really easy but hard to think it out. The key to solve this problem is discovering the relation between the index of the array num and max value of the current array.\n",
    "The code are as follows:\n",
    "\n",
    "```python\n",
    "class Solution:\n",
    "    def maxChunksToSorted(self, arr: List[int]) -> int:\n",
    "        cur_max = 0\n",
    "        res = 0\n",
    "        \n",
    "        for k,v in enumerate(arr):\n",
    "            cur_max = max(cur_max, v)\n",
    "            res += cur_max == k\n",
    "            \n",
    "        return res\n",
    "```"
   ]
  }
 ],
 "metadata": {
  "kernelspec": {
   "display_name": "Python 3",
   "language": "python",
   "name": "python3"
  },
  "language_info": {
   "codemirror_mode": {
    "name": "ipython",
    "version": 3
   },
   "file_extension": ".py",
   "mimetype": "text/x-python",
   "name": "python",
   "nbconvert_exporter": "python",
   "pygments_lexer": "ipython3",
   "version": "3.6.4"
  }
 },
 "nbformat": 4,
 "nbformat_minor": 4
}
