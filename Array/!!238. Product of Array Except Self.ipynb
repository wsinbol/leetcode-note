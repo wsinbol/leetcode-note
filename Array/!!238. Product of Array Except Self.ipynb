{
 "cells": [
  {
   "cell_type": "markdown",
   "metadata": {},
   "source": [
    "# [238. Product of Array Except Self](https://leetcode.com/problems/product-of-array-except-self/)\n",
    "\n",
    "```\n",
    "Given an array nums of n integers where n > 1,  return an array output such that output[i] is equal to the product of all the elements of nums except nums[i].\n",
    "```\n",
    "\n",
    "## 2-loop\n",
    "\n",
    "```\n",
    "Given numbers [2, 3, 4, 5], regarding the third number 4, the product of array except 4 is 2*3*5 which consists of two parts: left 2*3 and right 5. The product is left*right. We can get lefts and rights:\n",
    "\n",
    "Numbers:     2    3    4     5\n",
    "Lefts:            2  2*3 2*3*4\n",
    "Rights:  3*4*5  4*5    5      \n",
    "Let’s fill the empty with 1:\n",
    "\n",
    "Numbers:     2    3    4     5\n",
    "Lefts:       1    2  2*3 2*3*4\n",
    "Rights:  3*4*5  4*5    5     1\n",
    "We can calculate lefts and rights in 2 loops. The time complexity is O(n).\n",
    "\n",
    "We store lefts in result array. If we allocate a new array for rights. The space complexity is O(n). To make it O(1), we just need to store it in a variable.\n",
    "```\n",
    "\n",
    "```python\n",
    "class Solution:\n",
    "    def productExceptSelf(self, nums: List[int]) -> List[int]:\n",
    "        res = [1] * len(nums)\n",
    "        for i in range(1, len(nums)):\n",
    "            res[i] = res[i-1] * nums[i-1]\n",
    "        \n",
    "        right = 1\n",
    "        for i in range(len(nums)-1, -1, -1):\n",
    "            res[i] *= right\n",
    "            right *= nums[i]\n",
    "        return res\n",
    "```\n",
    "\n"
   ]
  }
 ],
 "metadata": {
  "kernelspec": {
   "display_name": "Python 3",
   "language": "python",
   "name": "python3"
  },
  "language_info": {
   "name": ""
  }
 },
 "nbformat": 4,
 "nbformat_minor": 4
}
