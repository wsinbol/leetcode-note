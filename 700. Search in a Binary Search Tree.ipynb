{
 "cells": [
  {
   "cell_type": "markdown",
   "metadata": {},
   "source": [
    "# [700. Search in a Binary Search Tree](https://leetcode.com/problems/search-in-a-binary-search-tree/)\n",
    "\n",
    "## 自己版\n",
    "\n",
    "```\n",
    "    def searchBST(self, root: TreeNode, val: int) -> TreeNode:\n",
    "        if not root:\n",
    "            return None\n",
    "        \n",
    "        if val < root.val:\n",
    "            return self.searchBST(root.left, val)\n",
    "        elif val > root.val:\n",
    "            return self.searchBST(root.right, val)\n",
    "        else:\n",
    "            return root\n",
    "```\n",
    "\n",
    "## 高效版\n",
    "\n",
    "```\n",
    "    def searchBST(self, root: TreeNode, val: int) -> TreeNode:\n",
    "        while root != None and root.val != val:\n",
    "            if val < root.val:\n",
    "                root = root.left\n",
    "            elif val > root.val:\n",
    "                root = root.right\n",
    "        return root\n",
    "```"
   ]
  }
 ],
 "metadata": {
  "kernelspec": {
   "display_name": "Python 3",
   "language": "python",
   "name": "python3"
  },
  "language_info": {
   "codemirror_mode": {
    "name": "ipython",
    "version": 3
   },
   "file_extension": ".py",
   "mimetype": "text/x-python",
   "name": "python",
   "nbconvert_exporter": "python",
   "pygments_lexer": "ipython3",
   "version": "3.6.4"
  }
 },
 "nbformat": 4,
 "nbformat_minor": 4
}
